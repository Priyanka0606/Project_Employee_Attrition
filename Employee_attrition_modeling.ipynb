{
 "cells": [
  {
   "cell_type": "markdown",
   "id": "49294608",
   "metadata": {},
   "source": [
    "## Problem Statement"
   ]
  },
  {
   "cell_type": "markdown",
   "id": "b42030da",
   "metadata": {},
   "source": [
    "The objective of the project is to uncover the drivers of attrition and build a model to predict the propensity of employee attrition."
   ]
  },
  {
   "cell_type": "markdown",
   "id": "0172b49b",
   "metadata": {},
   "source": [
    "### Importing Libraries"
   ]
  },
  {
   "cell_type": "code",
   "execution_count": null,
   "id": "cd507300",
   "metadata": {},
   "outputs": [],
   "source": [
    "import pandas as pd\n",
    "import numpy as np\n",
    "import matplotlib.pyplot as plt\n",
    "import seaborn as sns"
   ]
  },
  {
   "cell_type": "markdown",
   "id": "ba748435",
   "metadata": {},
   "source": [
    "### Importing the Data for ML Project"
   ]
  },
  {
   "cell_type": "code",
   "execution_count": null,
   "id": "08967edc",
   "metadata": {},
   "outputs": [],
   "source": [
    "df = pd.read_csv('/Users/priyankac/Downloads/employee_attrition.csv', header = 0)"
   ]
  },
  {
   "cell_type": "code",
   "execution_count": null,
   "id": "d0863627",
   "metadata": {},
   "outputs": [],
   "source": [
    "# Checking the number of rows and columns in the dataset\n",
    "df.shape"
   ]
  },
  {
   "cell_type": "code",
   "execution_count": null,
   "id": "e84fc4a0",
   "metadata": {},
   "outputs": [],
   "source": [
    "# Check the first 5 records in the dataset\n",
    "df.head()"
   ]
  },
  {
   "cell_type": "code",
   "execution_count": null,
   "id": "6ca7dd10",
   "metadata": {},
   "outputs": [],
   "source": [
    "# Check the data type of different columns\n",
    "df.dtypes"
   ]
  },
  {
   "cell_type": "code",
   "execution_count": null,
   "id": "36b944f1",
   "metadata": {},
   "outputs": [],
   "source": [
    "#df['EmployeeCount'].sum()"
   ]
  },
  {
   "cell_type": "markdown",
   "id": "6db41725",
   "metadata": {},
   "source": [
    "### Setting Display options to ensure feature name visibility"
   ]
  },
  {
   "cell_type": "code",
   "execution_count": null,
   "id": "5709b2d9",
   "metadata": {},
   "outputs": [],
   "source": [
    "pd.set_option('display.max_columns', None)"
   ]
  },
  {
   "cell_type": "markdown",
   "id": "7360d2f3",
   "metadata": {},
   "source": [
    "### Warning Suppression"
   ]
  },
  {
   "cell_type": "code",
   "execution_count": null,
   "id": "9cba3991",
   "metadata": {},
   "outputs": [],
   "source": [
    "import warnings\n",
    "warnings.filterwarnings('ignore')"
   ]
  },
  {
   "cell_type": "markdown",
   "id": "03c1c680",
   "metadata": {},
   "source": [
    "### Drop ID Feature from the dataset"
   ]
  },
  {
   "cell_type": "code",
   "execution_count": null,
   "id": "9fd675ce",
   "metadata": {},
   "outputs": [],
   "source": [
    "df = df.drop(['EmployeeNumber'], axis = 1)"
   ]
  },
  {
   "cell_type": "markdown",
   "id": "f6ebe237",
   "metadata": {},
   "source": [
    "### Create Target feature"
   ]
  },
  {
   "cell_type": "code",
   "execution_count": null,
   "id": "b6069923",
   "metadata": {},
   "outputs": [],
   "source": [
    "df['target'] = np.where(df['Attrition'] == 'Yes', 1, 0)"
   ]
  },
  {
   "cell_type": "code",
   "execution_count": null,
   "id": "4b3fcfde",
   "metadata": {},
   "outputs": [],
   "source": [
    "df = df.drop(['Attrition'], axis = 1)"
   ]
  },
  {
   "cell_type": "markdown",
   "id": "b1025c88",
   "metadata": {},
   "source": [
    "### Defining Target and Independent Features"
   ]
  },
  {
   "cell_type": "code",
   "execution_count": null,
   "id": "4faa58da",
   "metadata": {},
   "outputs": [],
   "source": [
    "Y = df[['target']]\n",
    "X = df.drop(['target'], axis = 1)"
   ]
  },
  {
   "cell_type": "markdown",
   "id": "13d1e58e",
   "metadata": {},
   "source": [
    "### Get the Attrition(Event) Rate"
   ]
  },
  {
   "cell_type": "code",
   "execution_count": null,
   "id": "aa54143b",
   "metadata": {},
   "outputs": [],
   "source": [
    "Y.mean()"
   ]
  },
  {
   "cell_type": "markdown",
   "id": "f409e1f8",
   "metadata": {},
   "source": [
    "### Split features into Numerical and Categorical"
   ]
  },
  {
   "cell_type": "code",
   "execution_count": null,
   "id": "1159217f",
   "metadata": {},
   "outputs": [],
   "source": [
    "num = X.select_dtypes(include = 'number')\n",
    "char = X.select_dtypes(include = 'object')"
   ]
  },
  {
   "cell_type": "code",
   "execution_count": null,
   "id": "876e52e7",
   "metadata": {},
   "outputs": [],
   "source": [
    "def unique_levels(x):\n",
    "    x = x.value_counts().count()\n",
    "    return (x)\n",
    "\n",
    "df_value_counts = pd.DataFrame(num.apply(lambda x : unique_levels(x)))"
   ]
  },
  {
   "cell_type": "code",
   "execution_count": null,
   "id": "c4c611c3",
   "metadata": {},
   "outputs": [],
   "source": [
    "df_value_counts.columns = ['feature_levels']\n",
    "df_value_counts.head()"
   ]
  },
  {
   "cell_type": "code",
   "execution_count": null,
   "id": "34d13203",
   "metadata": {},
   "outputs": [],
   "source": [
    "slice1 = df_value_counts.loc[df_value_counts['feature_levels'] <= 20]\n",
    "cat_list = slice1.index\n",
    "cat = num.loc[:, cat_list]\n",
    "cat.dtypes"
   ]
  },
  {
   "cell_type": "code",
   "execution_count": null,
   "id": "fc7e582a",
   "metadata": {},
   "outputs": [],
   "source": [
    "slice2 = df_value_counts.loc[df_value_counts['feature_levels'] > 20]\n",
    "num_list = slice2.index\n",
    "num = num.loc[:, num_list]"
   ]
  },
  {
   "cell_type": "code",
   "execution_count": null,
   "id": "2e3f410b",
   "metadata": {},
   "outputs": [],
   "source": [
    "num.dtypes"
   ]
  },
  {
   "cell_type": "code",
   "execution_count": null,
   "id": "363a7dd5",
   "metadata": {},
   "outputs": [],
   "source": [
    "num.shape"
   ]
  },
  {
   "cell_type": "code",
   "execution_count": null,
   "id": "e6c485c4",
   "metadata": {},
   "outputs": [],
   "source": [
    "# Joining the cat dataframe with the char dataframe\n",
    "char = pd.concat([char, cat] , axis = 1, join = 'inner')"
   ]
  },
  {
   "cell_type": "code",
   "execution_count": null,
   "id": "6cab4314",
   "metadata": {},
   "outputs": [],
   "source": [
    "char.head()"
   ]
  },
  {
   "cell_type": "code",
   "execution_count": null,
   "id": "b3507cde",
   "metadata": {},
   "outputs": [],
   "source": [
    "char.shape"
   ]
  },
  {
   "cell_type": "markdown",
   "id": "11fd3768",
   "metadata": {},
   "source": [
    "### Outlier Analysis of Numerical Features"
   ]
  },
  {
   "cell_type": "code",
   "execution_count": null,
   "id": "2d6cafdf",
   "metadata": {},
   "outputs": [],
   "source": [
    "num.describe(percentiles = [0.01,0.05,0.10,0.25,0.50,0.75,0.85,0.90,0.99])"
   ]
  },
  {
   "cell_type": "markdown",
   "id": "f740304e",
   "metadata": {},
   "source": [
    "### Capping and Flooring of Outliers"
   ]
  },
  {
   "cell_type": "code",
   "execution_count": null,
   "id": "290cff9e",
   "metadata": {},
   "outputs": [],
   "source": [
    "def outlier_cap(x):\n",
    "    x = x.clip(lower = x.quantile(0.01))\n",
    "    x = x.clip(upper = x.quantile(0.99))\n",
    "    return(x)"
   ]
  },
  {
   "cell_type": "code",
   "execution_count": null,
   "id": "454e5c37",
   "metadata": {},
   "outputs": [],
   "source": [
    "num = num.apply(lambda x : outlier_cap(x))"
   ]
  },
  {
   "cell_type": "code",
   "execution_count": null,
   "id": "c4eb487c",
   "metadata": {},
   "outputs": [],
   "source": [
    "num.describe(percentiles = [0.01,0.05,0.10,0.25,0.50,0.75,0.85,0.90,0.99])"
   ]
  },
  {
   "cell_type": "markdown",
   "id": "23e9d18f",
   "metadata": {},
   "source": [
    "### Missing Values Analysis"
   ]
  },
  {
   "cell_type": "code",
   "execution_count": null,
   "id": "7dd28ef3",
   "metadata": {},
   "outputs": [],
   "source": [
    "num.isnull().mean()"
   ]
  },
  {
   "cell_type": "code",
   "execution_count": null,
   "id": "0b6d81cc",
   "metadata": {},
   "outputs": [],
   "source": [
    "char.isnull().mean()"
   ]
  },
  {
   "cell_type": "markdown",
   "id": "f1f67c35",
   "metadata": {},
   "source": [
    "## Feature Selection - Numerical Features"
   ]
  },
  {
   "cell_type": "markdown",
   "id": "b8f979e2",
   "metadata": {},
   "source": [
    "### Part 1 : Remove Features with 0 Variance\n"
   ]
  },
  {
   "cell_type": "code",
   "execution_count": null,
   "id": "f3960dab",
   "metadata": {},
   "outputs": [],
   "source": [
    "from sklearn.feature_selection import VarianceThreshold\n",
    "varselector = VarianceThreshold(threshold = 0)\n",
    "varselector.fit_transform(num)\n",
    "\n",
    "# Get columns to keep and create a new dataframe with those only\n",
    "cols = varselector.get_support(indices = True)\n",
    "num_1 = num.iloc[:, cols]"
   ]
  },
  {
   "cell_type": "code",
   "execution_count": null,
   "id": "cfd0bf0a",
   "metadata": {},
   "outputs": [],
   "source": [
    "num.iloc[0]"
   ]
  },
  {
   "cell_type": "markdown",
   "id": "d7a1638e",
   "metadata": {},
   "source": [
    "### Part 2 : Bi Variate Analysis(Feature Discretization)"
   ]
  },
  {
   "cell_type": "code",
   "execution_count": null,
   "id": "871ebf73",
   "metadata": {},
   "outputs": [],
   "source": [
    "from sklearn.preprocessing import KBinsDiscretizer\n",
    "discrete = KBinsDiscretizer(n_bins = 10, encode = 'ordinal', strategy = 'quantile')\n",
    "num_binned = pd.DataFrame(discrete.fit_transform(num), index = num.index, columns = num.columns).add_suffix('_Rank')\n",
    "num_binned.tail()"
   ]
  },
  {
   "cell_type": "code",
   "execution_count": null,
   "id": "73f95642",
   "metadata": {},
   "outputs": [],
   "source": [
    "# Check if the feature show a slope at all\n",
    "# If they do, then do you see some deciles below the population average and some higher than population average?\n",
    "# If that is the case then the slope will be strong\n",
    "\n",
    "# Conclusion: A strong slope is indicative of the faetures' ability to descriminate the event from non event\n",
    "#             making it a good predictor\n",
    "\n",
    "X_bin_combined = pd.concat([Y, num_binned], axis = 1, join = 'inner')\n",
    "\n",
    "from numpy import mean\n",
    "for col in (num_binned.columns):\n",
    "    plt.figure()\n",
    "    sns.lineplot(x = col, y = X_bin_combined['target'].mean(), data = X_bin_combined, color = 'red')\n",
    "    sns.barplot(x = col, y = 'target', data = X_bin_combined, estimator = mean)\n",
    "plt.show()    "
   ]
  },
  {
   "cell_type": "code",
   "execution_count": null,
   "id": "3d8ee0b2",
   "metadata": {},
   "outputs": [],
   "source": [
    "num_varlist = ['DailyRate', 'HourlyRate', 'MonthlyRate']"
   ]
  },
  {
   "cell_type": "code",
   "execution_count": null,
   "id": "400a2f7b",
   "metadata": {},
   "outputs": [],
   "source": [
    "num_1 = num_1.drop(num_varlist, axis = 1)"
   ]
  },
  {
   "cell_type": "code",
   "execution_count": null,
   "id": "ec1c168e",
   "metadata": {},
   "outputs": [],
   "source": [
    "num_1.dtypes"
   ]
  },
  {
   "cell_type": "markdown",
   "id": "ca100b39",
   "metadata": {},
   "source": [
    "### Part 3 : Select K Best"
   ]
  },
  {
   "cell_type": "code",
   "execution_count": null,
   "id": "1afd91e8",
   "metadata": {},
   "outputs": [],
   "source": [
    "from sklearn.feature_selection import SelectKBest, chi2\n",
    "selector = SelectKBest(chi2, k = 4)\n",
    "selector.fit_transform(num_1, Y)\n",
    "\n",
    "# Get columns to keep and create new dataframe with those only\n",
    "cols = selector.get_support(indices = True)\n",
    "select_features_df_num = num_1.iloc[:, cols]"
   ]
  },
  {
   "cell_type": "code",
   "execution_count": null,
   "id": "51b0cad3",
   "metadata": {},
   "outputs": [],
   "source": [
    "select_features_df_num.iloc[0]"
   ]
  },
  {
   "cell_type": "code",
   "execution_count": null,
   "id": "fe6f3c67",
   "metadata": {},
   "outputs": [],
   "source": [
    "select_features_df_num.shape"
   ]
  },
  {
   "cell_type": "markdown",
   "id": "8b7b5c9e",
   "metadata": {},
   "source": [
    "## Feature Selection - Categorical Features"
   ]
  },
  {
   "cell_type": "code",
   "execution_count": null,
   "id": "5e1a48be",
   "metadata": {},
   "outputs": [],
   "source": [
    "def unique_levels(x):\n",
    "    x = x.value_counts().count()\n",
    "    return(x)\n",
    "\n",
    "char_unique_levels = pd.DataFrame(char.apply(lambda x : unique_levels(x)))"
   ]
  },
  {
   "cell_type": "code",
   "execution_count": null,
   "id": "006b954e",
   "metadata": {},
   "outputs": [],
   "source": [
    "char_unique_levels.columns = ['feature_levels']\n",
    "slice1 = char_unique_levels.loc[char_unique_levels['feature_levels'] > 1]\n",
    "cat_list = slice1.index\n",
    "char = char.loc[:, cat_list]"
   ]
  },
  {
   "cell_type": "markdown",
   "id": "b5894599",
   "metadata": {},
   "source": [
    "### Part 1 : Bi Variate Analysis"
   ]
  },
  {
   "cell_type": "code",
   "execution_count": null,
   "id": "5c1485d4",
   "metadata": {},
   "outputs": [],
   "source": [
    "X_char_merged = pd.concat([Y, char], axis = 1, join = 'inner')\n",
    "\n",
    "from numpy import mean\n",
    "for col in (char.columns):\n",
    "    plt.figure()\n",
    "    sns.lineplot(x = col, y = X_char_merged['target'].mean(), data = X_char_merged, color = 'red')\n",
    "    sns.barplot(x = col, y = 'target', data = X_char_merged, estimator = mean)\n",
    "plt.show()    "
   ]
  },
  {
   "cell_type": "code",
   "execution_count": null,
   "id": "28188e03",
   "metadata": {},
   "outputs": [],
   "source": [
    "charlist = ['Gender', 'Education', 'PerformanceRating']\n",
    "char_1 = char.drop(charlist, axis = 1)"
   ]
  },
  {
   "cell_type": "code",
   "execution_count": null,
   "id": "63538e69",
   "metadata": {},
   "outputs": [],
   "source": [
    "char_1.dtypes"
   ]
  },
  {
   "cell_type": "code",
   "execution_count": null,
   "id": "b950f1f3",
   "metadata": {},
   "outputs": [],
   "source": [
    "# Before using the get_dummies on categorical feature conveting the int type features to ogject type\n",
    "\n",
    "char_1['EnvironmentSatisfaction'] = char_1['EnvironmentSatisfaction'].astype('object')\n",
    "char_1['JobInvolvement'] = char_1['JobInvolvement'].astype('object')\n",
    "char_1['JobLevel'] = char_1['JobLevel'].astype('object')\n",
    "char_1['JobSatisfaction'] = char_1['JobSatisfaction'].astype('object')\n",
    "char_1['NumCompaniesWorked'] = char_1['NumCompaniesWorked'].astype('object')\n",
    "char_1['PercentSalaryHike'] = char_1['PercentSalaryHike'].astype('object')\n",
    "char_1['RelationshipSatisfaction'] = char_1['RelationshipSatisfaction'].astype('object')\n",
    "char_1['StockOptionLevel'] = char_1['StockOptionLevel'].astype('object')\n",
    "char_1['TrainingTimesLastYear'] = char_1['TrainingTimesLastYear'].astype('object')\n",
    "char_1['WorkLifeBalance'] = char_1['WorkLifeBalance'].astype('object')\n",
    "char_1['YearsInCurrentRole'] = char_1['YearsInCurrentRole'].astype('object')\n",
    "char_1['YearsSinceLastPromotion'] = char_1['YearsSinceLastPromotion'].astype('object')\n",
    "char_1['YearsWithCurrManager'] = char_1['YearsWithCurrManager'].astype('object')"
   ]
  },
  {
   "cell_type": "code",
   "execution_count": null,
   "id": "ee8dceaa",
   "metadata": {},
   "outputs": [],
   "source": [
    "char_1.dtypes"
   ]
  },
  {
   "cell_type": "code",
   "execution_count": null,
   "id": "a5c66489",
   "metadata": {},
   "outputs": [],
   "source": [
    "# Create dummy features with n-1 levels\n",
    "X_char_dum = pd.get_dummies(char_1, drop_first = True)\n",
    "X_char_dum.shape"
   ]
  },
  {
   "cell_type": "code",
   "execution_count": null,
   "id": "521de216",
   "metadata": {},
   "outputs": [],
   "source": [
    "X_char_dum.head()"
   ]
  },
  {
   "cell_type": "markdown",
   "id": "a79ca2d2",
   "metadata": {},
   "source": [
    "### Part 2 : Select K Best"
   ]
  },
  {
   "cell_type": "code",
   "execution_count": null,
   "id": "12c30956",
   "metadata": {},
   "outputs": [],
   "source": [
    "# Select K Best for Categorical Features\n",
    "from sklearn.feature_selection import SelectKBest, chi2\n",
    "selector = SelectKBest(chi2, k = 110)\n",
    "selector.fit_transform(X_char_dum, Y)\n",
    "\n",
    "# Get columns to keep and create new dataframe with those only\n",
    "cols = selector.get_support(indices = True)\n",
    "select_features_df_char = X_char_dum.iloc[:, cols]"
   ]
  },
  {
   "cell_type": "code",
   "execution_count": null,
   "id": "702b3fb1",
   "metadata": {},
   "outputs": [],
   "source": [
    "select_features_df_char.iloc[0]"
   ]
  },
  {
   "cell_type": "markdown",
   "id": "0fa47b53",
   "metadata": {},
   "source": [
    "## Creating the Master Feature Set for Model Development"
   ]
  },
  {
   "cell_type": "code",
   "execution_count": null,
   "id": "7b489631",
   "metadata": {},
   "outputs": [],
   "source": [
    "X_all = pd.concat([select_features_df_char, select_features_df_num], axis = 1, join = 'inner')"
   ]
  },
  {
   "cell_type": "markdown",
   "id": "7930aa72",
   "metadata": {},
   "source": [
    "## Train Test Split"
   ]
  },
  {
   "cell_type": "code",
   "execution_count": null,
   "id": "1abeccd0",
   "metadata": {},
   "outputs": [],
   "source": [
    "from sklearn.model_selection import train_test_split\n",
    "X_train, X_test, y_train, y_test = train_test_split(X_all, Y, test_size = 0.3, random_state = 20)"
   ]
  },
  {
   "cell_type": "code",
   "execution_count": null,
   "id": "2cc4c00c",
   "metadata": {},
   "outputs": [],
   "source": [
    "print('Shape of Training Data : ', X_train.shape)\n",
    "print('Shape od Testing Data : ', X_test.shape)\n",
    "print('Attrition Rate in Training Data : ', y_train.mean())\n",
    "print('Attrition Rate in Testing Data : ', y_test.mean())"
   ]
  },
  {
   "cell_type": "markdown",
   "id": "0242135f",
   "metadata": {},
   "source": [
    "## Model Development"
   ]
  },
  {
   "cell_type": "code",
   "execution_count": null,
   "id": "7202f818",
   "metadata": {},
   "outputs": [],
   "source": [
    "# Non linearity in feature relationships are observed which makes tree methods a good choice\n",
    "\n",
    "# There are few options to consider among tree methods:\n",
    "# White box(Completely Explainable Set of Rules) - Decision Tree\n",
    "# Ensemble methods - Random Forest(with Bagging)\n",
    "# Ensemble methods - GBM/XGBoost(Boosting)"
   ]
  },
  {
   "cell_type": "code",
   "execution_count": null,
   "id": "af50e672",
   "metadata": {},
   "outputs": [],
   "source": [
    "# Building a Decision Tree Model\n",
    "from sklearn.tree import DecisionTreeClassifier\n",
    "dtree = DecisionTreeClassifier(criterion = 'gini', random_state = 20)"
   ]
  },
  {
   "cell_type": "code",
   "execution_count": null,
   "id": "b522d915",
   "metadata": {},
   "outputs": [],
   "source": [
    "# Using the Grid Search to find the best parameters\n",
    "np.random.seed(44)\n",
    "from sklearn.model_selection import GridSearchCV\n",
    "param_dist = {'max_depth' : [3,4,6], 'min_samples_split' : [50,120,180,250]}\n",
    "tree_grid = GridSearchCV(dtree, cv = 10, param_grid = param_dist, n_jobs = -1)\n",
    "tree_grid.fit(X_train, y_train)\n",
    "\n",
    "print('Best parameters using Grid Search : \\n', tree_grid.best_params_)"
   ]
  },
  {
   "cell_type": "code",
   "execution_count": null,
   "id": "f400abf1",
   "metadata": {},
   "outputs": [],
   "source": [
    "dtree = DecisionTreeClassifier(criterion = 'gini', random_state = 20, max_depth = 4, min_samples_split = 50)\n",
    "dtree.fit(X_train, y_train)"
   ]
  },
  {
   "cell_type": "code",
   "execution_count": null,
   "id": "1dd7e469",
   "metadata": {},
   "outputs": [],
   "source": [
    "# Building a Random Forest Model\n",
    "from sklearn.ensemble import RandomForestClassifier\n",
    "rf = RandomForestClassifier(criterion = 'gini', random_state = 20, max_depth = 4, min_samples_split = 50)\n",
    "rf.fit(X_train, y_train)"
   ]
  },
  {
   "cell_type": "code",
   "execution_count": null,
   "id": "6659f8fc",
   "metadata": {},
   "outputs": [],
   "source": [
    "# Building a Gradient Boosting Model\n",
    "from sklearn.ensemble import GradientBoostingClassifier\n",
    "gbm = GradientBoostingClassifier(criterion = 'mse', random_state = 20, max_depth = 4, min_samples_split = 50)\n",
    "gbm.fit(X_train, y_train)"
   ]
  },
  {
   "cell_type": "markdown",
   "id": "5887b896",
   "metadata": {},
   "source": [
    "### Model Evaluation"
   ]
  },
  {
   "cell_type": "code",
   "execution_count": null,
   "id": "8ff22a4c",
   "metadata": {},
   "outputs": [],
   "source": [
    "# For Decision Tree model\n",
    "y_pred_tree = dtree.predict(X_test)\n",
    "\n",
    "# for Random Forest model\n",
    "y_pred_rf = rf.predict(X_test)\n",
    "\n",
    "# For Gradient Boosting model\n",
    "y_pred_gbm = gbm.predict(X_test)"
   ]
  },
  {
   "cell_type": "code",
   "execution_count": null,
   "id": "8cf9321f",
   "metadata": {},
   "outputs": [],
   "source": [
    "from sklearn import metrics\n",
    "from sklearn.metrics import confusion_matrix"
   ]
  },
  {
   "cell_type": "code",
   "execution_count": null,
   "id": "cc1b5161",
   "metadata": {},
   "outputs": [],
   "source": [
    "# For Decision Tree\n",
    "metrics.plot_confusion_matrix(dtree, X_test, y_test)"
   ]
  },
  {
   "cell_type": "code",
   "execution_count": null,
   "id": "a40a4d77",
   "metadata": {},
   "outputs": [],
   "source": [
    "# For Decision Tree\n",
    "\n",
    "print('Accuracy : ',metrics.accuracy_score(y_test, y_pred_tree))\n",
    "print('Precision : ',metrics.precision_score(y_test, y_pred_tree))\n",
    "print('Recall : ',metrics.recall_score(y_test, y_pred_tree))\n",
    "print('f1_score : ',metrics.f1_score(y_test, y_pred_tree))"
   ]
  },
  {
   "cell_type": "code",
   "execution_count": null,
   "id": "cf5a0aee",
   "metadata": {},
   "outputs": [],
   "source": [
    "# For Random Forest\n",
    "metrics.plot_confusion_matrix(rf, X_test, y_test)"
   ]
  },
  {
   "cell_type": "code",
   "execution_count": null,
   "id": "6163726e",
   "metadata": {},
   "outputs": [],
   "source": [
    "# For Random Forest\n",
    "\n",
    "print('Accuracy : ',metrics.accuracy_score(y_test, y_pred_rf))\n",
    "print('Precision : ',metrics.precision_score(y_test, y_pred_rf))\n",
    "print('Recall : ',metrics.recall_score(y_test, y_pred_rf))\n",
    "print('f1_score : ',metrics.f1_score(y_test, y_pred_rf))"
   ]
  },
  {
   "cell_type": "code",
   "execution_count": null,
   "id": "2994a288",
   "metadata": {},
   "outputs": [],
   "source": [
    "# For Gradient boosting\n",
    "metrics.plot_confusion_matrix(gbm, X_test, y_test)"
   ]
  },
  {
   "cell_type": "code",
   "execution_count": null,
   "id": "92968514",
   "metadata": {},
   "outputs": [],
   "source": [
    "# For Gradient Boosting\n",
    "\n",
    "print('Accuracy : ',metrics.accuracy_score(y_test, y_pred_gbm))\n",
    "print('Precision : ',metrics.precision_score(y_test, y_pred_gbm))\n",
    "print('Recall : ',metrics.recall_score(y_test, y_pred_gbm))\n",
    "print('f1_score : ',metrics.f1_score(y_test, y_pred_gbm))"
   ]
  },
  {
   "cell_type": "code",
   "execution_count": null,
   "id": "cd5a05f1",
   "metadata": {},
   "outputs": [],
   "source": [
    "# Finding feature importances using gbm\n",
    "feature_importances = pd.DataFrame(gbm.feature_importances_,\n",
    "                                  index = X_train.columns,\n",
    "                                  columns = ['importance']).sort_values('importance', ascending = False)\n",
    "\n",
    "ax = sns.barplot(x = 'importance', y = feature_importances.iloc[0:10].index, data = feature_importances.iloc[0:10])"
   ]
  },
  {
   "cell_type": "code",
   "execution_count": null,
   "id": "824d3b67",
   "metadata": {},
   "outputs": [],
   "source": [
    "# Probability Decile Analysis"
   ]
  },
  {
   "cell_type": "code",
   "execution_count": null,
   "id": "e55a946e",
   "metadata": {},
   "outputs": [],
   "source": [
    "y_pred_prob = gbm.predict_proba(X_all)[:, 1]\n",
    "df['y_pred_P']=pd.DataFrame(y_pred_prob)\n",
    "df['P_Rank_gbm']=pd.qcut(df['y_pred_P'].rank(method='first').values,10,duplicates='drop').codes+1\n",
    "rank_df_actuals=df.groupby('P_Rank_gbm')['target'].agg(['count','mean'])\n",
    "rank_df_actuals=pd.DataFrame(rank_df_actuals)\n",
    "rank_df_actuals.rename(columns={'mean':'Actual_event_rate'},inplace=True)\n",
    "\n",
    "sorted_rank_df=rank_df_actuals.sort_values(by='P_Rank_gbm',ascending=False)\n",
    "sorted_rank_df['N_events']=rank_df_actuals['count']*rank_df_actuals['Actual_event_rate']\n",
    "sorted_rank_df['cum_events']=sorted_rank_df['N_events'].cumsum()\n",
    "sorted_rank_df['event_cap']=sorted_rank_df['N_events']/max(sorted_rank_df['N_events'].cumsum())\n",
    "sorted_rank_df['cum_event_cap']=sorted_rank_df['event_cap'].cumsum()\n",
    "\n",
    "sorted_rank_df['N_non_events']=sorted_rank_df['count']-sorted_rank_df['N_events']\n",
    "sorted_rank_df['cum_non_events']=sorted_rank_df['N_non_events'].cumsum()\n",
    "sorted_rank_df['non_event_cap']=sorted_rank_df['N_non_events']/max(sorted_rank_df['N_non_events'].cumsum())\n",
    "sorted_rank_df['cum_non_event_cap']=sorted_rank_df['non_event_cap'].cumsum()\n",
    "\n",
    "sorted_rank_df['KS']=round((sorted_rank_df['cum_event_cap']-sorted_rank_df['cum_non_event_cap']),4)\n",
    "\n",
    "sorted_reindexed=sorted_rank_df.reset_index()\n",
    "sorted_reindexed['Decile']=sorted_reindexed.index+1\n",
    "sorted_reindexed['Lift_over_Avg']=sorted_reindexed['Actual_event_rate']/(max(sorted_reindexed['N_events'].cumsum())/max(sorted_reindexed['count'].cumsum()))\n",
    "sorted_reindexed"
   ]
  },
  {
   "cell_type": "code",
   "execution_count": null,
   "id": "89b5d7e6",
   "metadata": {},
   "outputs": [],
   "source": [
    "fig, axes = plt.subplots(1, 3, sharex=True, figsize=(15,5))\n",
    "fig.suptitle('Effectiveness of Deciles based on Model Probabilities')\n",
    "axes[0].set_title('Rank Ordering of Actual Event Rate')\n",
    "axes[1].set_title('Lift over Mean Event Rate')\n",
    "axes[2].set_title('Gains Chart')\n",
    "sns.lineplot(ax=axes[0],  x=\"Decile\", y=\"Actual_event_rate\", data=sorted_reindexed,color='red')\n",
    "sns.barplot(ax=axes[1],  x=\"Decile\", y=\"Lift_over_Avg\", data=sorted_reindexed,color='green')\n",
    "sns.lineplot(ax=axes[2],  x=\"Decile\", y=\"cum_event_cap\", data=sorted_reindexed,color='blue')\n",
    "sns.lineplot(ax=axes[2],  x=\"Decile\", y=\"cum_non_event_cap\", data=sorted_reindexed,color='black')"
   ]
  },
  {
   "cell_type": "code",
   "execution_count": null,
   "id": "ad43ec97",
   "metadata": {},
   "outputs": [],
   "source": [
    "# Target Audience\n",
    "df['predicted_cancel_Rank'] = np.where(df['P_Rank_gbm'] < 8, 'Bottom7', 'Top3')\n",
    "df.predicted_cancel_Rank.value_counts()"
   ]
  },
  {
   "cell_type": "code",
   "execution_count": null,
   "id": "135d7afb",
   "metadata": {},
   "outputs": [],
   "source": [
    "df_top3 = df.loc[df['predicted_cancel_Rank'] == 'Top3', :]"
   ]
  },
  {
   "cell_type": "code",
   "execution_count": null,
   "id": "589c8fd1",
   "metadata": {},
   "outputs": [],
   "source": [
    "df_top3.shape"
   ]
  },
  {
   "cell_type": "code",
   "execution_count": null,
   "id": "eaf41249",
   "metadata": {},
   "outputs": [],
   "source": [
    "df_top3['income_RANK']=pd.qcut(df_top3['MonthlyIncome'].rank(method='first').values,10,duplicates='drop').codes+1"
   ]
  },
  {
   "cell_type": "code",
   "execution_count": null,
   "id": "6fc0b241",
   "metadata": {},
   "outputs": [],
   "source": [
    "df_top3.groupby('income_RANK')['MonthlyIncome'].agg(['min','mean','max'])"
   ]
  },
  {
   "cell_type": "code",
   "execution_count": null,
   "id": "2794c039",
   "metadata": {},
   "outputs": [],
   "source": [
    "df_top3.MonthlyIncome.mean()"
   ]
  },
  {
   "cell_type": "code",
   "execution_count": null,
   "id": "63450744",
   "metadata": {},
   "outputs": [],
   "source": [
    "df_top3['income_segment']=np.where(df_top3['income_RANK']>=8,\"High Income\",\"Low Income\")\n",
    "df_top3.income_segment.value_counts()"
   ]
  },
  {
   "cell_type": "code",
   "execution_count": null,
   "id": "f9e14493",
   "metadata": {},
   "outputs": [],
   "source": [
    "# Other way to do the above step using quantile\n",
    "#df_top3['income_group'] = np.where(df_top3['MonthlyIncome']>=df_top3['MonthlyIncome'].quantile(0.70),'High_Income',\n",
    "                                  'Low_Income')\n"
   ]
  },
  {
   "cell_type": "code",
   "execution_count": null,
   "id": "ee671c71",
   "metadata": {},
   "outputs": [],
   "source": [
    "#df_top3['income_group'].value_counts()"
   ]
  },
  {
   "cell_type": "code",
   "execution_count": null,
   "id": "da370d4d",
   "metadata": {},
   "outputs": [],
   "source": [
    "df_top3['tot_work_exp_rank']=pd.qcut(df_top3['TotalWorkingYears'].rank(method='first').values,10,duplicates='drop').codes+1"
   ]
  },
  {
   "cell_type": "code",
   "execution_count": null,
   "id": "ff8d4403",
   "metadata": {},
   "outputs": [],
   "source": [
    "df_top3.groupby('tot_work_exp_rank')['TotalWorkingYears'].agg(['min','mean','max'])"
   ]
  },
  {
   "cell_type": "code",
   "execution_count": null,
   "id": "83dd76e9",
   "metadata": {},
   "outputs": [],
   "source": [
    "df_top3.TotalWorkingYears.mean()"
   ]
  },
  {
   "cell_type": "code",
   "execution_count": null,
   "id": "14cf709e",
   "metadata": {},
   "outputs": [],
   "source": [
    "df_top3['Work_Exp_Segment']=np.where(df_top3['tot_work_exp_rank']>=7,\"High Work Exp\",\"Low Work Exp\")\n",
    "df_top3.Work_Exp_Segment.value_counts()"
   ]
  },
  {
   "cell_type": "code",
   "execution_count": null,
   "id": "d642c501",
   "metadata": {},
   "outputs": [],
   "source": [
    "pd.crosstab(index=df_top3['Work_Exp_Segment'], columns=df_top3['income_segment'],values=df_top3['TotalWorkingYears'],aggfunc='count')"
   ]
  },
  {
   "cell_type": "code",
   "execution_count": null,
   "id": "d42c56a1",
   "metadata": {},
   "outputs": [],
   "source": [
    "pd.crosstab(index=df_top3['Work_Exp_Segment'], columns=df_top3['income_segment'],values=df_top3['y_pred_P'],aggfunc='mean')"
   ]
  },
  {
   "cell_type": "code",
   "execution_count": null,
   "id": "780b15cb",
   "metadata": {},
   "outputs": [],
   "source": []
  }
 ],
 "metadata": {
  "kernelspec": {
   "display_name": "Python 3 (ipykernel)",
   "language": "python",
   "name": "python3"
  },
  "language_info": {
   "codemirror_mode": {
    "name": "ipython",
    "version": 3
   },
   "file_extension": ".py",
   "mimetype": "text/x-python",
   "name": "python",
   "nbconvert_exporter": "python",
   "pygments_lexer": "ipython3",
   "version": "3.8.12"
  }
 },
 "nbformat": 4,
 "nbformat_minor": 5
}
